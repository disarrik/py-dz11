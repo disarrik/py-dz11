{
 "cells": [
  {
   "cell_type": "code",
   "execution_count": 86,
   "metadata": {},
   "outputs": [],
   "source": [
    "import confluent_kafka\n",
    "import random\n",
    "import json"
   ]
  },
  {
   "cell_type": "code",
   "execution_count": 91,
   "metadata": {},
   "outputs": [],
   "source": [
    "actions = [\n",
    "    'login',\n",
    "    'logout',\n",
    "    'purchase',\n",
    "    'click'\n",
    "]\n",
    "\n",
    "group = 'group'\n",
    "topic = 'example-topic'\n",
    "\n",
    "\n",
    "def generate_data():\n",
    "    for i in range(random.randint(150, 200)):\n",
    "        id = random.randint(1, 100)\n",
    "        yield {'id': id, 'action': actions[random.randint(0, len(actions) - 1)]}"
   ]
  },
  {
   "cell_type": "code",
   "execution_count": 103,
   "metadata": {},
   "outputs": [],
   "source": [
    "config = {\n",
    "    'bootstrap.servers': 'localhost:9092',\n",
    "}\n",
    "\n",
    "producer = confluent_kafka.Producer(config)\n",
    "\n",
    "for i in generate_data():\n",
    "    producer.produce(topic, value=json.dumps(i))\n",
    "    producer.flush()\n",
    "\n"
   ]
  },
  {
   "cell_type": "code",
   "execution_count": 104,
   "metadata": {},
   "outputs": [],
   "source": [
    "config = {\n",
    "    'bootstrap.servers': 'localhost:9092', \n",
    "    'group.id': group,\n",
    "    'auto.offset.reset': 'earliest'\n",
    "}\n",
    "\n",
    "consumer = confluent_kafka.Consumer(config)\n",
    "consumer.subscribe([topic])\n",
    "clicking_users = {}\n",
    "purchasing_users = {}\n",
    "count = 0\n",
    "while True:\n",
    "    msg = consumer.poll(1.0)\n",
    "    if msg is not None:\n",
    "        value = json.loads(msg.value().decode('utf-8'))\n",
    "        user = value['id']\n",
    "        op = value['action']\n",
    "        if op == 'click':\n",
    "            if user not in clicking_users:\n",
    "                clicking_users[user] = 0\n",
    "            clicking_users[user] += 1\n",
    "        elif op == 'purchase':\n",
    "            if user not in purchasing_users:\n",
    "                purchasing_users[user] = 0\n",
    "            purchasing_users[user] += 1\n",
    "        count += 1\n",
    "    if count >= 100:\n",
    "        break\n",
    "\n",
    "most_clicks= sorted([(k, v) for k, v in clicking_users.items()], key = lambda x: x[1])\n",
    "most_purchases = sorted([(k, v) for k, v in purchasing_users.items()], key = lambda x: x[1])\n",
    "\n",
    "most_clicks.reverse()\n",
    "most_clicks = most_clicks[0]\n",
    "most_purchases.reverse()\n",
    "most_purchases = most_purchases[0]"
   ]
  },
  {
   "cell_type": "code",
   "execution_count": 105,
   "metadata": {},
   "outputs": [
    {
     "name": "stdout",
     "output_type": "stream",
     "text": [
      "(84, 2) (3, 2)\n"
     ]
    }
   ],
   "source": [
    "print(most_clicks, most_purchases)"
   ]
  },
  {
   "cell_type": "code",
   "execution_count": null,
   "metadata": {},
   "outputs": [],
   "source": []
  }
 ],
 "metadata": {
  "kernelspec": {
   "display_name": "kafka",
   "language": "python",
   "name": "python3"
  },
  "language_info": {
   "codemirror_mode": {
    "name": "ipython",
    "version": 3
   },
   "file_extension": ".py",
   "mimetype": "text/x-python",
   "name": "python",
   "nbconvert_exporter": "python",
   "pygments_lexer": "ipython3",
   "version": "3.8.0"
  }
 },
 "nbformat": 4,
 "nbformat_minor": 2
}
